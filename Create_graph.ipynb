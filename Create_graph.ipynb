{
 "cells": [
  {
   "cell_type": "markdown",
   "metadata": {},
   "source": [
    "# 构造graph结构"
   ]
  },
  {
   "cell_type": "code",
   "execution_count": 81,
   "metadata": {},
   "outputs": [],
   "source": [
    "import gc\n",
    "import sys\n",
    "import heapq"
   ]
  },
  {
   "cell_type": "code",
   "execution_count": 45,
   "metadata": {},
   "outputs": [],
   "source": [
    "train_triplets_file=\"kaggle_visible_evaluation_triplets.txt\"\n",
    "test_triplets_file=\"year1_valid_triplets_hidden.txt\"\n",
    "user_file = 'kaggle_users.txt'\n",
    "song_file = 'kaggle_songs.txt'"
   ]
  },
  {
   "cell_type": "markdown",
   "metadata": {},
   "source": [
    "### user-id映射、song-id映射"
   ]
  },
  {
   "cell_type": "code",
   "execution_count": 94,
   "metadata": {},
   "outputs": [],
   "source": [
    "f = open('kaggle_users.txt', 'r')\n",
    "users = map(lambda line: line.strip(), f.readlines())\n",
    "user2id = {v:int(k) for k,v in enumerate(users)}\n",
    "f = open('kaggle_songs.txt', 'r')\n",
    "songs = list(map(lambda line: line.strip(), f.readlines()))\n",
    "song2id = {}\n",
    "for i in songs:\n",
    "    k, v = i.strip().split()\n",
    "    song2id[k] = v\n",
    "f.close()\n",
    "# del f\n",
    "# gc.collect()"
   ]
  },
  {
   "cell_type": "markdown",
   "metadata": {},
   "source": [
    "### song-user映射、user-song映射"
   ]
  },
  {
   "cell_type": "code",
   "execution_count": 112,
   "metadata": {},
   "outputs": [
    {
     "name": "stdout",
     "output_type": "stream",
     "text": [
      "总歌曲数量： 386213 被收听歌曲数： 110000\n",
      "总用户数： 110000 活跃用户数： 163206\n"
     ]
    }
   ],
   "source": [
    "f = open(train_triplets_file,'r')\n",
    "s2u = {}\n",
    "u2s = {}\n",
    "for i in f:\n",
    "    u, v, _ = i.strip().split()\n",
    "    s2u[u] = v\n",
    "    u2s[v] = u\n",
    "print(\"总歌曲数量：\", len(song2id),\"被收听歌曲数：\", len(s2u))\n",
    "print(\"总用户数：\", len(user2id), \"活跃用户数：\", len(u2s))"
   ]
  },
  {
   "cell_type": "markdown",
   "metadata": {},
   "source": [
    "## item相似度网络\n",
    "余弦相似度"
   ]
  },
  {
   "cell_type": "code",
   "execution_count": null,
   "metadata": {},
   "outputs": [],
   "source": [
    "sim = 'cos'\n",
    "alpha = 0.5\n",
    "q = 1\n",
    "knn = 100\n"
   ]
  },
  {
   "cell_type": "code",
   "execution_count": null,
   "metadata": {},
   "outputs": [],
   "source": []
  }
 ],
 "metadata": {
  "kernelspec": {
   "display_name": "Python 3",
   "language": "python",
   "name": "python3"
  },
  "language_info": {
   "codemirror_mode": {
    "name": "ipython",
    "version": 3
   },
   "file_extension": ".py",
   "mimetype": "text/x-python",
   "name": "python",
   "nbconvert_exporter": "python",
   "pygments_lexer": "ipython3",
   "version": "3.6.6"
  }
 },
 "nbformat": 4,
 "nbformat_minor": 2
}
